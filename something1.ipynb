{
 "cells": [
  {
   "cell_type": "markdown",
   "metadata": {},
   "source": [
    "# Wiki"
   ]
  },
  {
   "cell_type": "code",
   "execution_count": 56,
   "metadata": {},
   "outputs": [
    {
     "data": {
      "text/html": [
       "<div><style>\n",
       "  .tile {\n",
       "    width: 25%;\n",
       "    height: 33%;\n",
       "    background-color: #eee;\n",
       "    text-align: center;\n",
       "    font-color: #000;\n",
       "    border: 1px solid #ddd;\n",
       "    float: left;\n",
       "    text-align: center;\n",
       "    font-size: 16px;\n",
       "    line-height: 50px;\n",
       "  }\n",
       "</style><div class=\"tile\" style=\"background-color: #f1c40f;\">span</div><div class=\"tile\" style=\"background-color: #9b59b6;\">information</div><div class=\"tile\" style=\"background-color: #e74c3c;\">input</div><div class=\"tile\" style=\"background-color: #1abc9c;\">span</div><div class=\"tile\" style=\"background-color: #3498db;\">models</div><div class=\"tile\" style=\"background-color: #3498db;\">of</div><div class=\"tile\" style=\"background-color: #3498db;\">span</div><div class=\"tile\" style=\"background-color: #9b59b6;\">is</div><div class=\"tile\" style=\"background-color: #e67e22;\">mechanism</div><div class=\"tile\" style=\"background-color: #3498db;\">part</div><div class=\"tile\" style=\"background-color: #3498db;\">is</div><div class=\"tile\" style=\"background-color: #9b59b6;\">Scaled</div></div>"
      ],
      "text/plain": [
       "<IPython.core.display.HTML object>"
      ]
     },
     "metadata": {},
     "output_type": "display_data"
    }
   ],
   "source": [
    "import random\n",
    "import re\n",
    "import requests\n",
    "from IPython.display import HTML\n",
    "\n",
    "def create_tiles_html(words):\n",
    "  # Create a list of colors to use for the tiles\n",
    "  colors = ['#f1c40f', '#e67e22', '#e74c3c', '#9b59b6', '#3498db', '#2ecc71', '#1abc9c']\n",
    "\n",
    "  # Create the HTML for the tiles\n",
    "  # Create the HTML for the tiles by reading style.txt file\n",
    "  with open('style.txt', 'r') as f:\n",
    "    tiles_html = f.read()\n",
    "\n",
    "  for i in range(12):\n",
    "    color = random.choice(colors)\n",
    "    word = random.choice(words)\n",
    "    tiles_html += f'<div class=\"tile\" style=\"background-color: {color};\">{word}</div>'\n",
    "\n",
    "  return f'<div>{tiles_html}</div>'\n",
    "\n",
    "def get_words_from_wikipedia(query):\n",
    "  # Search Wikipedia for articles matching the query\n",
    "  response = requests.get(f'https://en.wikipedia.org/w/api.php?action=query&format=json&list=search&srsearch={query}&utf8=1&formatversion=2')\n",
    "  data = response.json()\n",
    "\n",
    "  # Extract the article titles and content from the response\n",
    "  articles = [(article['title'], article['snippet']) for article in data['query']['search']]\n",
    "\n",
    "  # Extract the words from the article content\n",
    "  words = []\n",
    "  for _, content in articles:\n",
    "    words.extend(re.findall(r'\\b\\w+\\b', content))\n",
    "\n",
    "  return words\n",
    "\n",
    "# Get a list of words from Wikipedia\n",
    "words = get_words_from_wikipedia('machine learning')\n",
    "\n",
    "# Generate the HTML for the tiles\n",
    "tiles_html = create_tiles_html(words)\n",
    "\n",
    "# Display the tiles\n",
    "display(HTML(tiles_html))\n"
   ]
  }
 ],
 "metadata": {
  "kernelspec": {
   "display_name": "Python 3.9.13 ('base')",
   "language": "python",
   "name": "python3"
  },
  "language_info": {
   "codemirror_mode": {
    "name": "ipython",
    "version": 3
   },
   "file_extension": ".py",
   "mimetype": "text/x-python",
   "name": "python",
   "nbconvert_exporter": "python",
   "pygments_lexer": "ipython3",
   "version": "3.9.13"
  },
  "orig_nbformat": 4,
  "vscode": {
   "interpreter": {
    "hash": "40d3a090f54c6569ab1632332b64b2c03c39dcf918b08424e98f38b5ae0af88f"
   }
  }
 },
 "nbformat": 4,
 "nbformat_minor": 2
}
